{
 "cells": [
  {
   "cell_type": "markdown",
   "metadata": {},
   "source": [
    "# Laborator 0: Pattern matching - probleme si solutii\n",
    "\n",
    "## Curs: Limbaje formale si automate\n",
    "## Autori: Muraru George si Pavel Cristian\n",
    "\n",
    "# Partea 0: Recap lab 0\n",
    "\n",
    "In laboratorul 0 am discutat despre o serie de notiuni introductive pentru limbajul Python. Inainte de inceperea efectiva a laboratorului 1, ar trebui sa puteti raspunde la urmatoarele intrebari:\n",
    "\n",
    "1. Cum declar o functie?\n",
    "2. Cum pot sa declar, sa parcurg si sa inserez intr-o lista?\n",
    "3. Cum declar un string si cum pot sa adaug caractere la acesta?\n",
    "4. Ce este un dictionar?\n",
    "\n",
    "# Partea 1: Problema\n",
    "\n",
    "In laboratorul 1 vom porni de la problema gasirii unui substring intr-un string - pattern matching. Aceasta este prima problema care apare atunci cand dorim sa parsam un text si, pentru a putea ajunge la solutii mai complexe de analiza a limbajelor, trebuie parcurse mai multe solutii cu avantajele si dezavantajele fiecareia.\n",
    "\n",
    "Asadar astazi ne propunem sa rezolvam urmatoarea problema:\n",
    "\n",
    "### Enuntul problemei:\n",
    "\n",
    "    Scrieti o functie care primeste 2 stringuri A si B, si verifica daca B este un substring al lui A.\n",
    "    \n",
    "    Exemplu:\n",
    "        A=\"scaunmasamasina\"\n",
    "        B=\"masina\"\n",
    "        \n",
    "        Output: true    \n",
    "        \n",
    "# Partea 2: Solutii\n",
    "\n",
    "## Partea 2.1: Solutia bruta\n",
    "\n",
    "Trebuie sa pornim de undeva. Prima solutie este cea bruta pe care va invit sa o implementati mai jos:"
   ]
  },
  {
   "cell_type": "code",
   "execution_count": 3,
   "metadata": {},
   "outputs": [],
   "source": [
    "# Prima solutie\n",
    "\n",
    "\n",
    "def is_substring_brute_force(a, b):\n",
    "    \"\"\"\n",
    "      :param a: Stringul in care trebuie cautat.\n",
    "      :param b: Substringul care trebuie cautat.\n",
    "      :return: True daca b este substring a lui a, altfel False\n",
    "    \"\"\"\n",
    "    ## any idea is a good idea\n",
    "    return False\n",
    "    \n",
    "\n",
    "print(is_substring_brute_force(\"scaunmasamasina\", \"masina\"));"
   ]
  },
  {
   "cell_type": "code",
   "execution_count": null,
   "metadata": {
    "tags": [
     "hide_input"
    ]
   },
   "outputs": [],
   "source": [
    "\n",
    "def __is_substring_brute_force__(a, b):\n",
    "    for i in range(0, len(a) - len(b) + 1):\n",
    "        is_substring = True\n",
    "        for j in range(0, len(b)):\n",
    "            if a[i + j] != b[j]:\n",
    "                is_substring = False\n",
    "        if is_substring is True:\n",
    "            return is_substring    \n",
    "    return False\n",
    "\n",
    "print(__is_substring_brute_force__(\"scaunmasamasina\", \"masina\"))\n",
    "    \n"
   ]
  },
  {
   "cell_type": "markdown",
   "metadata": {},
   "source": [
    "\n",
    "## Partea 2.2: O imbunatatire\n",
    "\n",
    "Pornind de la solutia bruta, putem observa urmatoarele lucruri:\n",
    "\n",
    "    * La un mismatch, continuam parcurgerea pana la finalul stringului B\n",
    "    * In caz de mismatch pornim de la 0, si incercam din nou toate posibilitile\n",
    "    * Nu ne folosim deloc de informatia legata de caracterul care a produs mismatch, si locul in care s-a produs\n",
    "\n",
    "Acum ne putem gandi la o imbunatatire care rezolva aceste probleme. Prima data, ne dam seama ca, odata intalnit un mismatch, nu mai e nevoie sa continuam cu parcurgerea celor doua stringuri, ci putem sa incercam un nou match. De asemenea, o intrebare buna ar fi: Cum am putea sa ne folosim de caracterul si locul in care s-a produs mismatch pentru a imbunatati performanta algoritmului?. Vom porni de la urmatorul caz:\n",
    "\n",
    "    A = \"acddbcdebacdbqwr\"\n",
    "    B = \"acdb\"\n",
    "    \n",
    "Parcurgem algoritmul brut pas cu pas:\n",
    "\n",
    "    i = 0 => j = 0 => 'a' = 'a'\n",
    "             j = 1 => 'b' = 'b'\n",
    "             j = 2 => 'c' = 'c'\n",
    "             j = 3 => 'd' != 'b'MISMATCH\n",
    "             ...\n",
    "    i = 1 => j = 0 => 'b' != 'a' MISMATCH\n",
    "             ...\n",
    "    ...\n",
    "\n",
    "    i = 9 => j = 0 => 'a' = 'a'\n",
    "             j = 1 => 'c' = 'c'\n",
    "             j = 2 => 'd' = 'd'\n",
    "             j = 3 => 'b' = 'b' MATCH\n",
    "            \n",
    "Observam ca pentru pozitiile 1, 2 si 3 cautarea a fost facuta inutil. Stim ca in stringul A niciun caracter de pe pozitiile 1, 2 si 3 **nu** este 'a', informatie obtinuta cand a fost facut matching pentru i = 0. Deci avand informatia **La pozitia 3 s-a facut mismatch pe caracterul 'd'** am fi putut sari direct la pozitia 3.\n",
    "\n",
    "De ce avem nevoie pentru a putea face acest salt?\n",
    "\n",
    "Uitandu-ne la substringul B, vedem ca, in cazul unui mismatch $B[j] \\neq A[i]$, noi putem continua cu $j = 0$, cu $i$ neschimbat, deoarece daca am ajuns la pozitia j in sirul B, atunci $B[0] = A[i - j], B[1] = A[i - j + 1] ... B[j - 1] = A[i - 1]$. Acum, de ce nu inaintam, ca in algoritmul brut, si nu comparam $B[0]\\> \\text{cu}\\> A[i - j + 1], A[i - j + 2],...,A[i]$ ? Pentru ca uitandu-ne la B, vedem ca nu $B[0]$ nu se repeta in B si $B[0] = A[i - j], B[1] = A[i - j + 1] ... B[j - 1] = A[i - 1]$.\n",
    "\n",
    "Generalizand, noi avem nevoie de o tabela T care sa ne spuna, daca s-a facut mismatch pe pozita j in B, atunci, continuam de la pozitia $T[j]$ in B si inaintam sau nu inaintam in A.\n",
    "\n"
   ]
  },
  {
   "cell_type": "code",
   "execution_count": 23,
   "metadata": {},
   "outputs": [
    {
     "name": "stdout",
     "output_type": "stream",
     "text": [
      "True\n"
     ]
    }
   ],
   "source": [
    "def construct_table(b):\n",
    "    ## T e tabelul de care ne spune unde sa ne mutam la un mismatch\n",
    "    T = [0] * (len(b) + 1)\n",
    "    T[0] = -1\n",
    "    indx = 0  # indx este indexul caracterului la care trebuie sa ne ducem in B pentru o noua incercare\n",
    "    for i in range(1, len(b)):\n",
    "        \"\"\"\n",
    "         daca b[i] si b[indx] sunt egale inseamna ca pentru un mismatch la i reactionam la fel\n",
    "         ca pentru un mismatch la indx\n",
    "        \"\"\"\n",
    "        if b[i] == b[indx]: \n",
    "            T[i] = T[indx]\n",
    "        else:\n",
    "            T[i] = indx  # pentru un mismatch la b[i] ne vom duce la indx\n",
    "            indx = T[indx]\n",
    "            while indx >= 0 and b[i] != b[indx]: # cautam noua pozitie\n",
    "                indx = T[indx]\n",
    "        indx += 1\n",
    "    T[len(b)] = indx\n",
    "    return T\n",
    "\n",
    "def is_substring_improved(a, b):\n",
    "    T = construct_table(b)\n",
    "    i = 0\n",
    "    j = 0\n",
    "    while i < len(a):\n",
    "        if b[j] == a[i]:\n",
    "            j += 1\n",
    "            i += 1\n",
    "            if j == len(b):\n",
    "                return True\n",
    "        else:\n",
    "            j = T[j]\n",
    "            if j < 0:\n",
    "                j += 1\n",
    "                i += 1\n",
    "    return False\n",
    "                \n",
    "print(is_substring_improved(\"scaunmasamasina\", \"scaun\"))\n",
    "        \n",
    "    \n",
    "    "
   ]
  },
  {
   "cell_type": "markdown",
   "metadata": {},
   "source": [
    "## Partea 3: De la tabela la automat\n",
    "\n",
    "Tabela de mai devreme poate fi vazuta ca un automat. Un automat este o ......"
   ]
  },
  {
   "cell_type": "code",
   "execution_count": null,
   "metadata": {},
   "outputs": [],
   "source": []
  }
 ],
 "metadata": {
  "celltoolbar": "Edit Metadata",
  "kernelspec": {
   "display_name": "Python 3",
   "language": "python",
   "name": "python3"
  },
  "language_info": {
   "codemirror_mode": {
    "name": "ipython",
    "version": 3
   },
   "file_extension": ".py",
   "mimetype": "text/x-python",
   "name": "python",
   "nbconvert_exporter": "python",
   "pygments_lexer": "ipython3",
   "version": "3.6.8"
  }
 },
 "nbformat": 4,
 "nbformat_minor": 2
}
