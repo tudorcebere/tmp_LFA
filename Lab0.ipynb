{
  "nbformat": 4,
  "nbformat_minor": 0,
  "metadata": {
    "colab": {
      "name": "Lab0.ipynb",
      "provenance": [],
      "collapsed_sections": [],
      "include_colab_link": true
    },
    "kernelspec": {
      "name": "python3",
      "display_name": "Python 3"
    }
  },
  "cells": [
    {
      "cell_type": "markdown",
      "metadata": {
        "id": "view-in-github",
        "colab_type": "text"
      },
      "source": [
        "<a href=\"https://colab.research.google.com/github/tudorcebere/tmp_LFA/blob/lab0/Lab0.ipynb\" target=\"_parent\"><img src=\"https://colab.research.google.com/assets/colab-badge.svg\" alt=\"Open In Colab\"/></a>"
      ]
    },
    {
      "cell_type": "markdown",
      "metadata": {
        "id": "PzLMBT2eMlQm",
        "colab_type": "text"
      },
      "source": [
        "#Laborator 0: Introducere in Jupyter Notebook si Python\n",
        "\n",
        "##Curs: Limbaje formale si automate\n",
        "\n",
        "##Autor: Cebere Tudor"
      ]
    },
    {
      "cell_type": "markdown",
      "metadata": {
        "id": "LUZLTRvne4Zs",
        "colab_type": "text"
      },
      "source": [
        "#Partea 0: Jupyter Notebook\n",
        "\n",
        "Jupyter Notebook este un tool open source pentru crearea si distribuirea documentelor care contin cod si sectiuni de text. Text-ul si portiunile de cod sunt puse in celule diferite, fiecare modificare dintr-o celula devenind vizibila interpretarilor ulterioare prin rulare. Fiecare celula isi retine ultima stare cu care a fost rulata, inclusiv valoarea la care au fost evaluate variabilele. O parte din lucrurile utile in Jupyter Notebooks sunt:\n",
        "\n",
        "\n",
        "*   ! - rularea unei comenzi intr-un CLI in working path-ul curent. eg: !ls\n",
        "*   %% HTML - randeaza HTML intr-un cell de notebook.\n",
        "*   %matplotlib inline - randeaza o imagine server side si returneaza plotting-ul.\n",
        "*   Latex rendering: $P(A \\mid B) = \\frac{P(B \\mid A)P(A)}{P(B)}$\n",
        "*   Autocomplete cu Ctrl+Space in linia curenta\n",
        "*   Explicarea parametrilor la autocomplete cu Ctrl+Shift+Space\n"
      ]
    },
    {
      "cell_type": "code",
      "metadata": {
        "id": "PJhW73l4fkwT",
        "colab_type": "code",
        "colab": {}
      },
      "source": [
        "!echo \"Ain't this cool?\" > jupyter_tricks.txt\n",
        "!ls\n",
        "!cat jupyter_tricks.txt\n",
        "!rm jupyter_tricks.txt"
      ],
      "execution_count": 0,
      "outputs": []
    },
    {
      "cell_type": "code",
      "metadata": {
        "id": "ZehYA4pxjdN_",
        "colab_type": "code",
        "colab": {}
      },
      "source": [
        "%%HTML \n",
        "<img src=\"https://i.pinimg.com/originals/37/f8/ed/37f8ed7686f5342ed76ef3df09e602d9.png\" style=\"height:300px\">"
      ],
      "execution_count": 0,
      "outputs": []
    },
    {
      "cell_type": "markdown",
      "metadata": {
        "id": "nVuOwacipN23",
        "colab_type": "text"
      },
      "source": [
        "#Partea 1: Introducere in limbajul Python\n",
        "\n",
        "Python este un limbaj interpretat, high-level, tipat slab. Tipurile variabilelor sunt deduse\n",
        "la runtime, oferind un nivel mare de libertate, dar si de greseli. In sectiunea de Bonus prezentam cum putem de hint-uri interpretorului despre tipul anumitor variabile pentru a face codul mai lizibil si a mai reduce din bug-urile produse de lipsa tiparii.\n",
        "\n",
        "Mai jos vom prezenta un set minimal de functionalitati din Python pentru a va acomoda cu limbajul.\n",
        "\n"
      ]
    },
    {
      "cell_type": "code",
      "metadata": {
        "id": "3ClInHy1sUL5",
        "colab_type": "code",
        "colab": {}
      },
      "source": [
        "a = 9\n",
        "\n",
        "# in Python, pentru a defini un scope, in loc de acolade folosim tab-uri.\n",
        "\n",
        "if a == 10:\n",
        "  #acesta este scope-ul cazului True din if.\n",
        "  print(\"a is indeed {}\".format(10))\n",
        "else:\n",
        "  #acesta este scope-ul cazului False din if\n",
        "  print(\"Nope, a este {}\".format(a))\n",
        "  #pentru a trece la un nivel de imbricare inferior, folosim un tab in minus\n",
        "\n",
        "#in momentul in care am luat un tab, am incheiat un scope\n",
        "print(\"Scope-ul cazurilor din if s-a terminat\")\n",
        "  "
      ],
      "execution_count": 0,
      "outputs": []
    },
    {
      "cell_type": "code",
      "metadata": {
        "id": "Abafj0AuNcsh",
        "colab_type": "code",
        "colab": {}
      },
      "source": [
        "#definirea unei functii in Python\n",
        "def func():\n",
        "  return \"func called\"\n",
        "\n",
        "return_value = func()\n",
        "\n",
        "print(return_value)\n",
        "print(func())"
      ],
      "execution_count": 0,
      "outputs": []
    },
    {
      "cell_type": "code",
      "metadata": {
        "id": "oLhSu1ant0jC",
        "colab_type": "code",
        "colab": {}
      },
      "source": [
        "#exemplu de lista in python\n",
        "x = [1, 2, 3, 4]\n",
        "\n",
        "print(f\"List of integers: {x}\")\n",
        "\n",
        "#fata de Haskell, Python-ul accepta orice elemente intr-o lista, fiind tipat slab.\n",
        "y = [\"Lista\", \"simpla\", 5]\n",
        "print(y)\n",
        "\n",
        "#desi este tipat slab, putem observa tipurilor diferitelor elemente la runtime\n",
        "print(type(y))"
      ],
      "execution_count": 0,
      "outputs": []
    },
    {
      "cell_type": "code",
      "metadata": {
        "id": "Kz1djUaLxc66",
        "colab_type": "code",
        "colab": {}
      },
      "source": [
        "#Parcurgerea unei liste pe baza iteratorilor\n",
        "for token in y:\n",
        "    print(token)\n",
        "\n",
        "#Parcurgerea unei liste pe baza indexului\n",
        "for i in range(0, len(y)):\n",
        "    print(y[i])\n",
        "\n",
        "#explicatie:\n",
        "#i - indexul curent\n",
        "#len(y) - lungimea listei\n",
        "#range(0, len(y)) - genereaza pe rand elemente din lista [0 .. len(y) -1]\n",
        "# ia cate un element din lista in ordine si il foloseste ca index"
      ],
      "execution_count": 0,
      "outputs": []
    },
    {
      "cell_type": "code",
      "metadata": {
        "id": "ASgZOOhnxsG6",
        "colab_type": "code",
        "colab": {}
      },
      "source": [
        "ex_list = [\"This\", \"is\", \"not\"]\n",
        "ex_tuple = (\"This\", \"is\", \"immutable\")\n",
        "\n",
        "try:\n",
        "  ex_list[0] = 0\n",
        "  print(ex_list)\n",
        "except:\n",
        "  print(\"Er\") \n",
        "\n",
        "try:\n",
        "  ex_tuple[0] = 0\n",
        "  print(ex_tuple)\n",
        "except:\n",
        "  print(\"Err\")\n",
        "\n",
        "#Listele sunt mutabile in memorie, tuplurile nu."
      ],
      "execution_count": 0,
      "outputs": []
    },
    {
      "cell_type": "code",
      "metadata": {
        "id": "Fklog7YL1-yb",
        "colab_type": "code",
        "colab": {}
      },
      "source": [
        "#In python avem si notiunea de lista infinita, sub numele de generator, mai multe\n",
        "#detalii despre implementarea lor gasiti aici: https://realpython.com/introduction-to-python-generators/\n",
        "\n",
        "number_generator = range(0, 10)\n",
        "print(number_generator)\n",
        "\n",
        "print(next(iter(number_generator)))\n",
        "print(next(iter(number_generator)))"
      ],
      "execution_count": 0,
      "outputs": []
    },
    {
      "cell_type": "code",
      "metadata": {
        "id": "pN-6JOHi1--X",
        "colab_type": "code",
        "colab": {}
      },
      "source": [
        "dummy_list = [3, 6, 9]\n",
        "\n",
        "dummy_list.append(10)\n",
        "print(dummy_list)\n",
        "\n",
        "dummy_list.append(20)\n",
        "print(dummy_list)\n",
        "\n",
        "dummy_list.remove(10)\n",
        "print(dummy_list)"
      ],
      "execution_count": 0,
      "outputs": []
    },
    {
      "cell_type": "code",
      "metadata": {
        "id": "E_xXTio21_Eo",
        "colab_type": "code",
        "colab": {}
      },
      "source": [
        "dummy_list.sort(reverse=True)\n",
        "print(dummy_list)\n",
        "\n",
        "dummy_list.sort(key=lambda x : x)\n",
        "print(dummy_list)\n",
        "\n",
        "dummy_list.sort(key=lambda x : -x)\n",
        "print(dummy_list)\n",
        "\n",
        "dummy_list.sort(key=lambda x : x % 6)\n",
        "print(dummy_list)\n",
        "\n",
        "new_ref = sorted(dummy_list)\n",
        "print(new_ref)"
      ],
      "execution_count": 0,
      "outputs": []
    },
    {
      "cell_type": "code",
      "metadata": {
        "id": "EHD3w8_H1_MI",
        "colab_type": "code",
        "colab": {}
      },
      "source": [
        "ref = [1, 2, 3, 4, 5, 6]\n",
        "print(ref[-1])\n",
        "\n",
        "little_slice = ref[1:3]\n",
        "print(little_slice)\n",
        "\n",
        "negative_slice = ref[2:-3]\n",
        "print(negative_slice)\n",
        "\n",
        "reversed_string = ref[::-1]\n",
        "print(reversed_string)"
      ],
      "execution_count": 0,
      "outputs": []
    },
    {
      "cell_type": "code",
      "metadata": {
        "id": "gcIMNFC91Cl-",
        "colab_type": "code",
        "colab": {}
      },
      "source": [
        "pokemon_intro = \"\"\"\n",
        "I wanna be the very best\n",
        "Like no one ever was\n",
        "To catch them is my real test\n",
        "To train them is my cause\n",
        "\"\"\"\n",
        "\n",
        "pokemon_intro = str(pokemon_intro)\n",
        "versuri = pokemon_intro.split(\"\\n\")\n",
        "print(versuri)\n",
        "\n",
        "#observam ca avem null strings\n",
        "#Solutia 1:\n",
        "versuri_clean = []\n",
        "for string in versuri:\n",
        "  if string != \"\":\n",
        "    versuri_clean.append(string)\n",
        "\n",
        "print(versuri_clean)\n",
        "\n",
        "#Solutia 2:\n",
        "versuri_clean = list(filter(lambda x: x != \"\", versuri))\n",
        "print(versuri_clean)\n",
        "\n",
        "#cautam aparitia unui string intr-un alt string\n",
        "print(\"Pikachu\" in versuri)\n",
        "print(\"train\" in versuri)\n",
        "\n",
        "concat = \"This\" + \" \" + \"is\" + \" \" + \"concatenation\"\n",
        "print(concat)\n",
        "concat_on_lists = [1, 2] + [3, 4] + [5, 6]\n",
        "print(concat_on_lists)\n",
        "\n",
        "primul_vers = versuri_clean[0]\n",
        "cuvinte = primul_vers.split(\" \")\n",
        "print(cuvinte)\n",
        "\n",
        "different_format = \"_\".join(cuvinte)\n",
        "print(different_format)\n",
        "\n",
        "replaced_str = primul_vers.replace(\"very best\", \"greatest\")\n",
        "print(replaced_str)"
      ],
      "execution_count": 0,
      "outputs": []
    },
    {
      "cell_type": "code",
      "metadata": {
        "id": "vgxrFPv21TjD",
        "colab_type": "code",
        "colab": {}
      },
      "source": [
        "#dictionarele sunt alta structura de date comuna in Python\n",
        "#dictionarele default sunt neordonate, echivalente cu std::unordered_map din C++\n",
        "\n",
        "string_valued_dict_1 = {0 : \"cool\", 1 : \"opensource\", 2 : \"data\"}\n",
        "print(string_valued_dict_1[0])\n",
        "print(string_valued_dict_1[1])\n",
        "print(string_valued_dict_1[2])\n",
        "print()\n",
        "\n",
        "string_valued_dict_2 = {\"index_1\" : \"cool\", \"index_2\" : \"opensource\", \"index_3\" : \"data\"}\n",
        "print(string_valued_dict_2[\"index_1\"])\n",
        "print(string_valued_dict_2[\"index_2\"])\n",
        "print(string_valued_dict_2[\"index_3\"])\n",
        "print()\n",
        "\n",
        "cool_guys_and_where_to_find_them = {\"Turing\" : \"Alan\",\n",
        "                                    \"Church\" : \"Alonzo\", \n",
        "                                    \"materii\": [\"PP\", \"AA\", \"LFA\"]}\n",
        "\n",
        "for k,v in cool_guys_and_where_to_find_them.items():\n",
        "  print(k + \": \" + str(v))\n",
        "print()\n",
        "\n",
        "dict_tuples = dict([(\"A\", \"a\"), (\"B\", \"b\"), (\"C\", \"c\")])\n",
        "print(dict_tuples)"
      ],
      "execution_count": 0,
      "outputs": []
    },
    {
      "cell_type": "code",
      "metadata": {
        "id": "M3Y9oQ2l50JP",
        "colab_type": "code",
        "colab": {}
      },
      "source": [
        "#pentru a importa biblioteci/fisiere, folosim keyword-ul import.\n",
        "import os\n",
        "\n",
        "print(os.getcwd())"
      ],
      "execution_count": 0,
      "outputs": []
    },
    {
      "cell_type": "markdown",
      "metadata": {
        "id": "9mMehXweHmHy",
        "colab_type": "text"
      },
      "source": [
        "#Partea a II-a: Exercitii"
      ]
    },
    {
      "cell_type": "markdown",
      "metadata": {
        "id": "uLqE5j_55ubx",
        "colab_type": "text"
      },
      "source": [
        "#Queue: \n",
        "Fara a folosi keyword-ul \"import\", implementati comportamentul unui queue folosind listele din python."
      ]
    },
    {
      "cell_type": "code",
      "metadata": {
        "id": "xulqFApJ5Nil",
        "colab_type": "code",
        "colab": {}
      },
      "source": [
        "def pop(queue):\n",
        "  return None\n",
        "\n",
        "def push(queue):\n",
        "  return None\n",
        "\n",
        "def len(queue):\n",
        "  return None  "
      ],
      "execution_count": 0,
      "outputs": []
    },
    {
      "cell_type": "code",
      "metadata": {
        "id": "9YNJLmLI-G6l",
        "colab_type": "code",
        "colab": {}
      },
      "source": [
        "push_test = [\"a\", \"b\", \"c\"]\n",
        "\n",
        "\n",
        "pop_test = [1, 2, 3, 4]\n",
        "\n",
        "pop_fail = \"Pop does not work\"\n",
        "assert pop([]) == None, pop_fail\n",
        "assert pop(t1) == 1, pop_fail\n",
        "assert pop(t1) == 2, pop_fail"
      ],
      "execution_count": 0,
      "outputs": []
    },
    {
      "cell_type": "markdown",
      "metadata": {
        "id": "pCBqvoWg5P8-",
        "colab_type": "text"
      },
      "source": [
        "#Random String generator:\n",
        "Completati functia \"random_gen\", care primeste 2 parametri x si y, care returneaza x string-uri random de lungime y.\n",
        "\n",
        "Hint:\n",
        "Ca random generator, cititi documentatia pentru modulul random\n",
        "https://docs.python.org/3/library/random.html"
      ]
    },
    {
      "cell_type": "code",
      "metadata": {
        "id": "_AAh_Q955Otl",
        "colab_type": "code",
        "colab": {}
      },
      "source": [
        "import random\n",
        "\n",
        "def random_gen(x, y):\n",
        "  \"\"\"\n",
        "      Functie de generare a x string-uri random de lungime y.\n",
        "      :param x: Numarul de string-uri.\n",
        "      :param y: Lungimea unui string.\n",
        "      :return: Lista ce contine cele x string-uri de lungime y.\n",
        "  \"\"\"\n",
        "  ###your code goes here\n",
        "  return None"
      ],
      "execution_count": 0,
      "outputs": []
    },
    {
      "cell_type": "code",
      "metadata": {
        "id": "0z3J_n_E78My",
        "colab_type": "code",
        "colab": {}
      },
      "source": [
        "#Teste"
      ],
      "execution_count": 0,
      "outputs": []
    },
    {
      "cell_type": "markdown",
      "metadata": {
        "id": "xq4Ol3DN-L7o",
        "colab_type": "text"
      },
      "source": [
        "#Tic-Tac-Toe:\n",
        "\n",
        "Primind ca input o matrice de 3x3, spuneti daca exista un jucator castigator in cadrul jocului Tic-Tac-Toe.\n",
        "\n",
        "* Jucatorul 0 va juca cu \"x\" sau \"X\".\n",
        "\n",
        "* Jucatorul 1 va juca cu \"o\" sau \"O\".\n",
        "\n",
        "* Spatiul gol va fi reprezentat de \"_\".\n",
        "\n",
        "* Jocul se termina cand unul din jucatori reuseste sa obtina o linie, coloana sau diagonala cu simbolul asociat lui.\n",
        "\n",
        "* Functia trebuie sa returneze indexul jucatorului care a castigat, daca nimeni nu a castigat, trebuie sa intoarca None."
      ]
    },
    {
      "cell_type": "code",
      "metadata": {
        "id": "pmKFBPjo5RyL",
        "colab_type": "code",
        "colab": {}
      },
      "source": [
        "def tic_tac_toe_result(game_state):\n",
        "  \"\"\"\n",
        "    Functie care stabileste daca cineva a castigat intr-o configuratie oarecare de Tic-Tac-Toe.\n",
        "    :param game_state: o lista de lista (o matrice), care descrie state-ul curent.\n",
        "    #return: 1 daca a castigat jucatorul 1, 0 daca a castigat jucatorul 0, None daca nu a casigat nimeni\n",
        "  \"\"\"\n",
        "  return None"
      ],
      "execution_count": 0,
      "outputs": []
    },
    {
      "cell_type": "code",
      "metadata": {
        "id": "Bx9V12pMASPd",
        "colab_type": "code",
        "colab": {}
      },
      "source": [
        "#Teste"
      ],
      "execution_count": 0,
      "outputs": []
    }
  ]
}